{
  "nbformat": 4,
  "nbformat_minor": 0,
  "metadata": {
    "colab": {
      "name": "M3_Regression.ipynb",
      "version": "0.3.2",
      "provenance": [],
      "collapsed_sections": [],
      "include_colab_link": true
    },
    "kernelspec": {
      "display_name": "Python 3",
      "language": "python",
      "name": "python3"
    }
  },
  "cells": [
    {
      "cell_type": "markdown",
      "metadata": {
        "id": "view-in-github",
        "colab_type": "text"
      },
      "source": [
        "[View in Colaboratory](https://colab.research.google.com/github/RayleighKim/M03_SN_I_Regression/blob/master/M3_Regression.ipynb)"
      ]
    },
    {
      "metadata": {
        "id": "q8FkFodFg4hD",
        "colab_type": "text"
      },
      "cell_type": "markdown",
      "source": [
        "# Regression 실습\n",
        "\n",
        "\n",
        "1. Multivariate Linear Regression\n",
        "2. Artificial Neural Network Regression\n",
        "\n",
        "Data : ade_sales.csv"
      ]
    },
    {
      "metadata": {
        "id": "ChcmB-adg4hF",
        "colab_type": "text"
      },
      "cell_type": "markdown",
      "source": [
        "# 1. 라이브러리 로딩"
      ]
    },
    {
      "metadata": {
        "id": "O9zP9akLg4hF",
        "colab_type": "code",
        "colab": {}
      },
      "cell_type": "code",
      "source": [
        "import pandas as pd\n",
        "import numpy as np\n",
        "import sklearn as sk\n",
        "import statsmodels.api as sm\n",
        "\n",
        "from sklearn import linear_model\n",
        "from sklearn import neural_network\n",
        "from sklearn.metrics import mean_squared_error, r2_score"
      ],
      "execution_count": 0,
      "outputs": []
    },
    {
      "metadata": {
        "id": "oLQHnU2Zg4hI",
        "colab_type": "text"
      },
      "cell_type": "markdown",
      "source": [
        "# 2. 데이터 로딩 & 기초 전처리"
      ]
    },
    {
      "metadata": {
        "id": "4Z8_kSc2g4hI",
        "colab_type": "text"
      },
      "cell_type": "markdown",
      "source": [
        "1. 데이터를 불러올 것이다.\n",
        "2. 사용하지 않는 데이터는 버려버릴 것이다!\n",
        "3. 빈 칸이 있을까?\n",
        "4. 더미를 이용하여 펼칠 것이다!"
      ]
    },
    {
      "metadata": {
        "id": "3pv5val3g4hJ",
        "colab_type": "code",
        "colab": {}
      },
      "cell_type": "code",
      "source": [
        "ade_data = pd.read_csv('https://raw.githubusercontent.com/RayleighKim/Example_datasets/master/ade_sales.csv')\n",
        "\n",
        "ade_data.head()"
      ],
      "execution_count": 0,
      "outputs": []
    },
    {
      "metadata": {
        "id": "KS2ZTKVRg4hL",
        "colab_type": "code",
        "colab": {}
      },
      "cell_type": "code",
      "source": [
        "lemon_only = ade_data.drop(['Date', 'Orange', 'lemon_profit','orange_profit', 'Leaflets','leaflets_lag2','leaflets_lag3','leaflets_lag4'], axis=1)\n",
        "lemon_only.head()"
      ],
      "execution_count": 0,
      "outputs": []
    },
    {
      "metadata": {
        "id": "310FjUJmg4hN",
        "colab_type": "code",
        "colab": {}
      },
      "cell_type": "code",
      "source": [
        "lemon_only.isna().any()"
      ],
      "execution_count": 0,
      "outputs": []
    },
    {
      "metadata": {
        "id": "Msz3ZNxPg4hP",
        "colab_type": "text"
      },
      "cell_type": "markdown",
      "source": [
        "Leaflets column에 빈칸이 발견되었다!"
      ]
    },
    {
      "metadata": {
        "id": "8PidM76lg4hQ",
        "colab_type": "code",
        "colab": {}
      },
      "cell_type": "code",
      "source": [
        "lemon_only['leaflets_lag1']      # 눈으로 하나 하나 볼 수 있는 상황이 아니라면?"
      ],
      "execution_count": 0,
      "outputs": []
    },
    {
      "metadata": {
        "id": "5XQfREd9g4hR",
        "colab_type": "code",
        "colab": {}
      },
      "cell_type": "code",
      "source": [
        "lemon_only.ix[21,'leaflets_lag1'] = lemon_only.ix[(19,20,22,23),'leaflets_lag1'].mean()\n",
        "lemon_only.ix[0,'leaflets_lag1'] = 0"
      ],
      "execution_count": 0,
      "outputs": []
    },
    {
      "metadata": {
        "id": "UvtWp3IMg4hU",
        "colab_type": "code",
        "colab": {}
      },
      "cell_type": "code",
      "source": [
        "lemon_only.ix[17:23,:]"
      ],
      "execution_count": 0,
      "outputs": []
    },
    {
      "metadata": {
        "id": "vWf-gLu9g4hW",
        "colab_type": "text"
      },
      "cell_type": "markdown",
      "source": [
        "더미를 이용하여 펼치자.\n",
        "더미를 사용하는 이유는 간단하다!\n",
        "\n",
        "1. 컴퓨터는 Beach 와 Park를 그냥 넣으면 이해 못한다.\n",
        "2. 1, 2 그런걸로 집어넣었다간 Park는 Beach의 2배가 될 것이다.\n",
        "3. 그냥 Beach냐 아니냐 1, 0  Park냐 아니냐 1,0으로 찢는 것이 가장 속 편함!"
      ]
    },
    {
      "metadata": {
        "id": "oDWkhbFOg4hX",
        "colab_type": "code",
        "colab": {}
      },
      "cell_type": "code",
      "source": [
        "pd.get_dummies(lemon_only['Location'])"
      ],
      "execution_count": 0,
      "outputs": []
    },
    {
      "metadata": {
        "id": "pO8cjc_Xg4hZ",
        "colab_type": "code",
        "colab": {}
      },
      "cell_type": "code",
      "source": [
        "lemon_only2 = pd.concat([lemon_only, pd.get_dummies(lemon_only['Location'])], axis=1).drop(['Location'], axis=1)\n",
        "lemon_only2.head()"
      ],
      "execution_count": 0,
      "outputs": []
    },
    {
      "metadata": {
        "id": "w1H0Q5Frg4hb",
        "colab_type": "text"
      },
      "cell_type": "markdown",
      "source": [
        "# 3. 데이터 스플릿.\n",
        "\n",
        "시계열 데이터는 보통, 테스트셋을 뒤로 둔다..!</br>\n",
        "* 생각해 볼 것. 뒤의 6일을 테스트로 분리하면 무슨 문제가 있을까?\n",
        "* 3일만을 분리해둔다면 무슨 문제가 있을까?\n",
        "* 분리를 안 한다면, 무엇을 고민해야 할까?"
      ]
    },
    {
      "metadata": {
        "id": "lh-PvRkBg4hb",
        "colab_type": "code",
        "colab": {}
      },
      "cell_type": "code",
      "source": [
        "# 뒤 6일만 테스트로 나눠보기\n",
        "\n",
        "test6 = lemon_only2.ix[26:]\n",
        "train6 = lemon_only2.ix[:25]\n",
        "\n",
        "# 뒤 3일만 테스트로 남겨보기\n",
        "\n",
        "test3 = lemon_only2.ix[29:]\n",
        "train3 = lemon_only2.ix[:28]"
      ],
      "execution_count": 0,
      "outputs": []
    },
    {
      "metadata": {
        "id": "_cW3FCWug4hd",
        "colab_type": "code",
        "colab": {}
      },
      "cell_type": "code",
      "source": [
        "X_full, Y_full = lemon_only2.drop('Lemon', axis=1), lemon_only['Lemon']\n",
        "\n",
        "X_train6, Y_train6 = train6.drop('Lemon', axis=1), train6['Lemon']\n",
        "X_test6, Y_test6 = test6.drop('Lemon', axis =1), test6['Lemon']\n",
        "\n",
        "X_train3, Y_train3 = train3.drop('Lemon', axis=1), train3['Lemon']\n",
        "X_test3, Y_test3 = test3.drop('Lemon', axis =1), test3['Lemon']"
      ],
      "execution_count": 0,
      "outputs": []
    },
    {
      "metadata": {
        "id": "DK4V_f_Ag4hf",
        "colab_type": "text"
      },
      "cell_type": "markdown",
      "source": [
        "# 4. Linear Regression"
      ]
    },
    {
      "metadata": {
        "id": "oxltoc73g4hg",
        "colab_type": "code",
        "colab": {}
      },
      "cell_type": "code",
      "source": [
        "X_train = X_train6\n",
        "Y_train = Y_train6\n",
        "X_test = X_test6\n",
        "Y_test = Y_test6\n",
        "\n",
        "\n",
        "# X_train = X_train3\n",
        "# Y_train = Y_train3\n",
        "# X_test = X_test3\n",
        "# Y_test = Y_test3\n",
        "\n",
        "# X_train = X_full\n",
        "# Y_train = Y_full\n",
        "# X_test = X_test3\n",
        "# Y_test = Y_test3"
      ],
      "execution_count": 0,
      "outputs": []
    },
    {
      "metadata": {
        "id": "IjScDDXAg4hk",
        "colab_type": "code",
        "colab": {}
      },
      "cell_type": "code",
      "source": [
        "X_train6.head(0)"
      ],
      "execution_count": 0,
      "outputs": []
    },
    {
      "metadata": {
        "id": "QmBBMD6_g4hm",
        "colab_type": "code",
        "colab": {}
      },
      "cell_type": "code",
      "source": [
        "# 6일 자른것\n",
        "\n",
        "reg = linear_model.LinearRegression()\n",
        "\n",
        "\n",
        "reg.fit(X_train, Y_train)\n",
        "Y_pred = reg.predict(X_test)\n",
        "\n",
        "\n",
        "print('Coefficients :', reg.coef_)\n",
        "print('MSE : {:.4f}'.format(mean_squared_error(Y_test, Y_pred)))\n",
        "print('R-squared : {:.3f}'.format(r2_score(Y_test, Y_pred)))"
      ],
      "execution_count": 0,
      "outputs": []
    },
    {
      "metadata": {
        "id": "kW5Zf9Xsg4hr",
        "colab_type": "code",
        "colab": {}
      },
      "cell_type": "code",
      "source": [
        "X_train2 = sm.add_constant(X_train)\n",
        "est = sm.OLS(Y_train, X_train2)\n",
        "est = est.fit()\n",
        "print(est.summary())\n"
      ],
      "execution_count": 0,
      "outputs": []
    },
    {
      "metadata": {
        "id": "-GRyiv3ag4hu",
        "colab_type": "text"
      },
      "cell_type": "markdown",
      "source": [
        "https://en.wikipedia.org/wiki/Coefficient_of_determination"
      ]
    },
    {
      "metadata": {
        "id": "Dcm6DL9bg4hu",
        "colab_type": "text"
      },
      "cell_type": "markdown",
      "source": [
        "# 5. Neural Network Regression"
      ]
    },
    {
      "metadata": {
        "id": "D5_NMkGSg4hu",
        "colab_type": "code",
        "colab": {}
      },
      "cell_type": "code",
      "source": [
        "X_train = X_train6\n",
        "Y_train = Y_train6\n",
        "X_test = X_test6\n",
        "Y_test = Y_test6\n",
        "\n",
        "\n",
        "# X_train = X_train3\n",
        "# Y_train = Y_train3\n",
        "# X_test = X_test3\n",
        "# Y_test = Y_test3\n",
        "\n",
        "# X_train = X_full\n",
        "# Y_train = Y_full\n",
        "# X_test = X_test3\n",
        "# Y_test = Y_test3"
      ],
      "execution_count": 0,
      "outputs": []
    },
    {
      "metadata": {
        "id": "XpxdSXL2g4hw",
        "colab_type": "code",
        "colab": {}
      },
      "cell_type": "code",
      "source": [
        "# 6일 자른것\n",
        "\n",
        "mlp =neural_network.MLPRegressor(hidden_layer_sizes=(8,8,8),random_state=2018)\n",
        "mlp.fit(X_train, Y_train)\n",
        "Y_pred = mlp.predict(X_test)\n",
        "\n",
        "\n",
        "print('Coefficients :', mlp.coefs_)\n",
        "print('MSE : {:.4f}'.format(mean_squared_error(Y_test, Y_pred)))\n",
        "print('R-squared : {:.3f}'.format(r2_score(Y_test, Y_pred)))"
      ],
      "execution_count": 0,
      "outputs": []
    },
    {
      "metadata": {
        "id": "3J_5qpkmh9bN",
        "colab_type": "code",
        "colab": {}
      },
      "cell_type": "code",
      "source": [
        ""
      ],
      "execution_count": 0,
      "outputs": []
    }
  ]
}